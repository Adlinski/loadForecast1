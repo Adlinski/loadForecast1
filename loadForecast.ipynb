{
 "cells": [
  {
   "cell_type": "markdown",
   "metadata": {},
   "source": [
    "# Load Forecast\n",
    "## SVM Regression\n"
   ]
  },
  {
   "cell_type": "code",
   "execution_count": 1,
   "metadata": {
    "collapsed": false
   },
   "outputs": [
    {
     "name": "stdout",
     "output_type": "stream",
     "text": [
      "data loaded\n"
     ]
    }
   ],
   "source": [
    "# Import libraries\n",
    "import numpy as np\n",
    "import pandas as pd\n",
    "from time import time\n",
    "from sklearn.metrics import f1_score\n",
    "\n",
    "# Read load data\n",
    "load_data = pd.read_csv(\"rsfenergymodel2011.csv\")\n",
    "print \"data loaded\""
   ]
  },
  {
   "cell_type": "markdown",
   "metadata": {},
   "source": [
    "### Implementation: Data Exploration\n",
    "\n"
   ]
  },
  {
   "cell_type": "code",
   "execution_count": 2,
   "metadata": {
    "collapsed": false
   },
   "outputs": [
    {
     "name": "stdout",
     "output_type": "stream",
     "text": [
      "Total data: 8769\n",
      "Number of features: 6\n",
      "n_Jan: 744\n",
      "n_Feb: 672\n",
      "n_Mar: 744\n",
      "n_Winter: 2160\n"
     ]
    }
   ],
   "source": [
    "n_total_data = len(load_data)\n",
    "\n",
    "# number of features\n",
    "# column B, C, E, F, G, H\n",
    "n_features = 6 # need to revise based on later coding\n",
    "\n",
    "# count number of data for Jan, Feb, Mar\n",
    "n_Jan = len(load_data[load_data['Month'] == 1])\n",
    "n_Feb = len(load_data[load_data['Month'] == 2])\n",
    "n_Mar = len(load_data[load_data['Month'] == 3])\n",
    "\n",
    "n_Winter = n_Jan+n_Feb+n_Mar\n",
    "\n",
    "# Print the results\n",
    "print \"Total data: {}\".format(n_total_data)\n",
    "print \"Number of features: {}\".format(n_features)\n",
    "print \"n_Jan: {}\".format(n_Jan)\n",
    "print \"n_Feb: {}\".format(n_Feb)\n",
    "print \"n_Mar: {}\".format(n_Mar)\n",
    "print \"n_Winter: {}\".format(n_Winter)\n"
   ]
  },
  {
   "cell_type": "markdown",
   "metadata": {},
   "source": [
    "## Preparing the Data\n",
    "\n",
    "### Identify feature and target columns\n"
   ]
  },
  {
   "cell_type": "code",
   "execution_count": 3,
   "metadata": {
    "collapsed": false
   },
   "outputs": [
    {
     "name": "stdout",
     "output_type": "stream",
     "text": [
      "Feature columns:\n",
      "['Weekday', 'Month', 'Day', 'Hour', 'Outside Wet-Bulb Temp (F)', 'Outside Dry-Bulb Temp (F)']\n",
      "\n",
      "Target column: ['Total Space Cooling - Kwh', 'Heating - kWh', 'Lighting End-Use Energy - Kwh', 'Task Lighting End-Use Energy - Kwh', 'Fans End-Use Energy - Kwh', 'Miscellaneous Equipment End-Use Energy - Kwh', 'Data Center IT End-Use Energy - Kwh', 'Data Center HVAC End-Use Energy - Kwh', 'Pumps End-Use Energy - Kwh']\n",
      "\n",
      "Feature values:\n",
      "   Weekday  Month  Day  Hour  Outside Wet-Bulb Temp (F)  \\\n",
      "0  Tuesday    1.0  1.0   1.0                       16.0   \n",
      "1  Tuesday    1.0  1.0   2.0                       14.0   \n",
      "2  Tuesday    1.0  1.0   3.0                       13.0   \n",
      "3  Tuesday    1.0  1.0   4.0                       11.0   \n",
      "4  Tuesday    1.0  1.0   5.0                       12.0   \n",
      "\n",
      "   Outside Dry-Bulb Temp (F)  \n",
      "0                       18.0  \n",
      "1                       16.0  \n",
      "2                       15.0  \n",
      "3                       13.0  \n",
      "4                       14.0  \n",
      "\n",
      "target values:\n",
      "0    278.564750\n",
      "1    285.625589\n",
      "2    294.650750\n",
      "3    299.552589\n",
      "4    307.048750\n",
      "dtype: float64\n"
     ]
    }
   ],
   "source": [
    "# Extract feature columns\n",
    "#feature_cols = ['Weekday', 'Month', 'Day', 'Hour', 'Outside Wet-Bulb Temp (F)', \n",
    "           # 'Outside Dry-Bulb Temp (F)', ]\n",
    "feature_cols_1 = list(load_data.columns[1:3])\n",
    "feature_cols_2 = list(load_data.columns[4:8])\n",
    "\n",
    "feature_cols = feature_cols_1+feature_cols_2\n",
    "target_cols = list(load_data.columns[8:17]) \n",
    "\n",
    "# Show the list of columns\n",
    "print \"Feature columns:\\n{}\".format(feature_cols)\n",
    "\n",
    "print \"\\nTarget column: {}\".format(target_cols)\n",
    "\n",
    "X_all = load_data[feature_cols]\n",
    "Y_cols = load_data[target_cols]\n",
    "\n",
    "Y_all = Y_cols.sum(axis=1)\n",
    "print \"\\nFeature values:\"\n",
    "print X_all.head()\n",
    "print \"\\ntarget values:\"\n",
    "print Y_all.head()"
   ]
  },
  {
   "cell_type": "code",
   "execution_count": 4,
   "metadata": {
    "collapsed": false
   },
   "outputs": [
    {
     "name": "stdout",
     "output_type": "stream",
     "text": [
      "\n",
      "Feature values:\n",
      "   Weekday  Month  Day  Hour  Outside Wet-Bulb Temp (F)  \\\n",
      "0  Tuesday    1.0  1.0   1.0                       16.0   \n",
      "1  Tuesday    1.0  1.0   2.0                       14.0   \n",
      "2  Tuesday    1.0  1.0   3.0                       13.0   \n",
      "3  Tuesday    1.0  1.0   4.0                       11.0   \n",
      "4  Tuesday    1.0  1.0   5.0                       12.0   \n",
      "\n",
      "   Outside Dry-Bulb Temp (F)  \n",
      "0                       18.0  \n",
      "1                       16.0  \n",
      "2                       15.0  \n",
      "3                       13.0  \n",
      "4                       14.0  \n",
      "\n",
      "target values:\n",
      "0    278.564750\n",
      "1    285.625589\n",
      "2    294.650750\n",
      "3    299.552589\n",
      "4    307.048750\n",
      "dtype: float64\n"
     ]
    }
   ],
   "source": [
    "X_winter = X_all[0:2160]\n",
    "Y_winter = Y_all[0:2160]\n",
    "\n",
    "print \"\\nFeature values:\"\n",
    "print X_winter.head()\n",
    "print \"\\ntarget values:\"\n",
    "print Y_winter.head()"
   ]
  },
  {
   "cell_type": "markdown",
   "metadata": {},
   "source": [
    "### Preprocess Feature Columns\n"
   ]
  },
  {
   "cell_type": "code",
   "execution_count": 5,
   "metadata": {
    "collapsed": false
   },
   "outputs": [
    {
     "name": "stdout",
     "output_type": "stream",
     "text": [
      "Processed feature columns (6 total features):\n",
      "['Weekday', 'Month', 'Day', 'Hour', 'Outside Wet-Bulb Temp (F)', 'Outside Dry-Bulb Temp (F)']\n",
      "   Weekday  Month  Day  Hour  Outside Wet-Bulb Temp (F)  \\\n",
      "0        2    1.0  1.0   1.0                       16.0   \n",
      "1        2    1.0  1.0   2.0                       14.0   \n",
      "2        2    1.0  1.0   3.0                       13.0   \n",
      "3        2    1.0  1.0   4.0                       11.0   \n",
      "4        2    1.0  1.0   5.0                       12.0   \n",
      "\n",
      "   Outside Dry-Bulb Temp (F)  \n",
      "0                       18.0  \n",
      "1                       16.0  \n",
      "2                       15.0  \n",
      "3                       13.0  \n",
      "4                       14.0  \n",
      "0    278.564750\n",
      "1    285.625589\n",
      "2    294.650750\n",
      "3    299.552589\n",
      "4    307.048750\n",
      "dtype: float64\n"
     ]
    }
   ],
   "source": [
    "def preprocess_features(X):\n",
    "    #''' Preprocesses the data'''\n",
    "    #'''Converts categorical variables into dummy variables. '''\n",
    "    \n",
    "    # Initialize new output DataFrame\n",
    "    output = pd.DataFrame(index = X.index)\n",
    "\n",
    "    # Investigate each feature column for the data\n",
    "    for col, col_data in X.iteritems():\n",
    "        \n",
    "        if col_data.dtype == object:\n",
    "            col_data = col_data.replace(['Monday','Tuesday','Wednesday','Thursday','Friday',\n",
    "                                        'Saturday','Sunday'], [1, 2, 3, 4, 5, 60, 70])\n",
    "\n",
    "        output = output.join(col_data)\n",
    "    \n",
    "    return output\n",
    "\n",
    "X_winter = preprocess_features(X_winter)\n",
    "\n",
    "print \"Processed feature columns ({} total features):\\n{}\".format(len(X_all.columns), list(X_all.columns))\n",
    "print X_winter.head()\n",
    "print Y_winter.head()"
   ]
  },
  {
   "cell_type": "markdown",
   "metadata": {},
   "source": [
    "### Implementation: Training and Testing Data Split\n",
    "\n",
    "- Randomly shuffle and split the data (`X_winter`, `Y_winter`) into training and testing subsets.\n",
    "  - 75% data for training\n",
    "  - 25% data for testing"
   ]
  },
  {
   "cell_type": "code",
   "execution_count": 6,
   "metadata": {
    "collapsed": false
   },
   "outputs": [
    {
     "name": "stdout",
     "output_type": "stream",
     "text": [
      "Training set has 1620 samples.\n",
      "Testing set has 540 samples.\n",
      "      Weekday  Month   Day  Hour  Outside Wet-Bulb Temp (F)  \\\n",
      "91          5    1.0   4.0  20.0                       34.0   \n",
      "1677        1    3.0  11.0  22.0                       35.0   \n",
      "1628       60    3.0   9.0  21.0                       32.0   \n",
      "873         3    2.0   6.0  10.0                       33.0   \n",
      "2146       70    3.0  31.0  11.0                       33.0   \n",
      "\n",
      "      Outside Dry-Bulb Temp (F)  \n",
      "91                         47.0  \n",
      "1677                       40.0  \n",
      "1628                       39.0  \n",
      "873                        44.0  \n",
      "2146                       45.0  \n",
      "91      177.822789\n",
      "1677    193.478089\n",
      "1628    220.374750\n",
      "873     495.787570\n",
      "2146    199.352730\n",
      "dtype: float64\n"
     ]
    }
   ],
   "source": [
    "#load lib\n",
    "from sklearn.cross_validation import train_test_split\n",
    "\n",
    "# Set 75% data for training\n",
    "num_train = 1620\n",
    "\n",
    "# Set 75% data for testing\n",
    "num_test = X_all.shape[0] - num_train\n",
    "\n",
    "# TODO: Shuffle and split the dataset into the number of training and testing points above\n",
    "X_train, X_test, y_train, y_test= train_test_split(X_winter, Y_winter, train_size=num_train, random_state=42)\n",
    "\n",
    "# Show the results of the split\n",
    "print \"Training set has {} samples.\".format(X_train.shape[0])\n",
    "print \"Testing set has {} samples.\".format(X_test.shape[0])\n",
    "print X_train.head()\n",
    "print y_train.head()\n"
   ]
  },
  {
   "cell_type": "markdown",
   "metadata": {},
   "source": [
    "## Training and Evaluating Models\n",
    "\n",
    "- Support Vector Regression (SVR)\n"
   ]
  },
  {
   "cell_type": "code",
   "execution_count": null,
   "metadata": {
    "collapsed": true
   },
   "outputs": [
    {
     "name": "stdout",
     "output_type": "stream",
     "text": [
      "540\n",
      "540\n"
     ]
    }
   ],
   "source": [
    "from sklearn.svm import SVR\n",
    "import matplotlib.pyplot as plt\n",
    "\n",
    "svr_rbf = SVR(kernel='rbf', C=1e3, gamma=0.1)\n",
    "\n",
    "y_rbf = svr_rbf.fit(X_train, y_train).predict(X_test)\n",
    "\n",
    "\n",
    "# #############################################################################\n",
    "# Look at the results\n",
    "##\n",
    "\n",
    "a = np.arange(0, 540, 1)\n",
    "lw = 2\n",
    "print len(a)\n",
    "print len(y_rbf)\n",
    "\n",
    "plt.scatter(a, y_test, color='darkorange', label='data')\n",
    "\n",
    "plt.plot(a, y_rbf, color='c', lw=lw, label='RBF model')\n",
    "\n",
    "plt.xlabel('data')\n",
    "plt.ylabel('target')\n",
    "plt.title('Support Vector Regression')\n",
    "plt.legend()\n",
    "plt.show()"
   ]
  }
 ],
 "metadata": {
  "kernelspec": {
   "display_name": "Python 2",
   "language": "python",
   "name": "python2"
  },
  "language_info": {
   "codemirror_mode": {
    "name": "ipython",
    "version": 2
   },
   "file_extension": ".py",
   "mimetype": "text/x-python",
   "name": "python",
   "nbconvert_exporter": "python",
   "pygments_lexer": "ipython2",
   "version": "2.7.13"
  }
 },
 "nbformat": 4,
 "nbformat_minor": 0
}
